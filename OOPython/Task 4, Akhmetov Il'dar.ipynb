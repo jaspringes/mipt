{
 "cells": [
  {
   "cell_type": "markdown",
   "metadata": {},
   "source": [
    "# Библиотеки"
   ]
  },
  {
   "cell_type": "code",
   "execution_count": 1,
   "metadata": {},
   "outputs": [],
   "source": [
    "import numpy as np\n",
    "import sympy as smp"
   ]
  },
  {
   "cell_type": "markdown",
   "metadata": {},
   "source": [
    "# Классы для производных"
   ]
  },
  {
   "cell_type": "code",
   "execution_count": 2,
   "metadata": {},
   "outputs": [],
   "source": [
    "class DerivativeNum:\n",
    "    \n",
    "    def __init__(self, function=None, h=None, alpha=1, dots=0):\n",
    "        self._function = function\n",
    "        self._h = h\n",
    "        self.SetAlpha(alpha)\n",
    "        self.SetDots(dots)\n",
    "\n",
    "    def SetAlpha(self, alpha):\n",
    "        self._alpha = alpha\n",
    "        self._alphaN = alpha\n",
    "        \n",
    "    def SetDots(self, dots):\n",
    "        self._dots = dots\n",
    "        self._dotsN = dots\n",
    "    \n",
    "    def Calculate(self, x):\n",
    "        return np.dot(self._alphaN, self._function(x+self._h*self._dotsN))/(self._h**self._n)\n",
    "\n",
    "    def __call__(self, x):\n",
    "        return self.Calculate(x)"
   ]
  },
  {
   "cell_type": "code",
   "execution_count": 3,
   "metadata": {},
   "outputs": [],
   "source": [
    "class DerivativeNum4(DerivativeNum):\n",
    "    def __init__(self, function=None, h=None):\n",
    "        super().__init__(function, h, np.array([0.5, -0.5]), np.array([1., -1.]))\n",
    "        self._n = 1"
   ]
  },
  {
   "cell_type": "code",
   "execution_count": 4,
   "metadata": {},
   "outputs": [],
   "source": [
    "class DerivativeNNum(DerivativeNum4):\n",
    "    def __init__(self, n=0, function=None, h=None):\n",
    "        super().__init__(function=function, h=h)\n",
    "    \n",
    "    def SetN(self, n):\n",
    "        self._n = n\n",
    "        self._alphaN = np.array([])\n",
    "        self._dotsN = np.array([])\n",
    "        x, y = smp.symbols('x y')\n",
    "        self._scheme = smp.Poly((self._alpha[0]*x+self._alpha[1]*y)**n, x, y).as_dict().items()\n",
    "        for key, value in self._scheme:\n",
    "            self._alphaN = np.append(self._alphaN, value)\n",
    "            self._dotsN = np.append(self._dotsN, np.array(np.dot(key, self._dots)))\n",
    "            \n",
    "    def __call__(self, x):\n",
    "        return self.Calculate(x)"
   ]
  },
  {
   "cell_type": "markdown",
   "metadata": {},
   "source": [
    "# Классы для нормированных пространств"
   ]
  },
  {
   "cell_type": "code",
   "execution_count": 5,
   "metadata": {},
   "outputs": [],
   "source": [
    "class NormedVectorSpace:\n",
    "    def __init__(self, left=None, right=None, function=None, h=None, *args):\n",
    "        super().__init__()\n",
    "        self.SetLeft(left)\n",
    "        self.SetRight(right)\n",
    "        self.SetFunction(function)\n",
    "        self.SetH(h)\n",
    "    def SetLeft(self, left):\n",
    "        self._left = left\n",
    "    def SetRight(self, right):\n",
    "        self._right = right\n",
    "    def SetFunction(self, function):\n",
    "        self._function = function\n",
    "    def SetH(self, h):\n",
    "        self._h = h"
   ]
  },
  {
   "cell_type": "code",
   "execution_count": 6,
   "metadata": {},
   "outputs": [],
   "source": [
    "class NormedVectorSpaceCN(NormedVectorSpace, DerivativeNNum):\n",
    "    def __init__(self, left=0, right=2, function=None, h=1):\n",
    "        super().__init__(left=left, right=right, function=function, h=h)\n",
    "        self.SetFunction(function)\n",
    "        self.SetH(h)\n",
    "        \n",
    "    def GetNormN(self, n):\n",
    "        self.SetN(n)\n",
    "        z = np.amax([abs(self(x)) for x in np.arange(self._left, self._right, self._h)])\n",
    "        return z\n",
    "    \n",
    "    def CalculateNorm(self, n=None):\n",
    "        answer = 0\n",
    "        if n is None:\n",
    "            n=self._n\n",
    "            print('C%s :' % n)\n",
    "        for i in range(n+1):\n",
    "            answer += self.GetNormN(i)\n",
    "        return answer\n",
    "    \n",
    "    def CalculateMetric(self, f1, f2, n=None):\n",
    "        self._function = smp.lambdify(xSym, f1-f2)\n",
    "        return self.CalculateNorm(n)"
   ]
  },
  {
   "cell_type": "markdown",
   "metadata": {},
   "source": [
    "# Исследуемые функции"
   ]
  },
  {
   "cell_type": "code",
   "execution_count": 7,
   "metadata": {},
   "outputs": [],
   "source": [
    "xSym = smp.Symbol('x')\n",
    "functionsSym = [5/(2+3*xSym**2),\n",
    "                2/(5+smp.cos(xSym)),\n",
    "                (3+4*xSym**2)**(1/3),\n",
    "                2/smp.pi**(1/2)*smp.exp(-xSym**2)\n",
    "               ]\n",
    "functions = [smp.lambdify(xSym, fSym) for fSym in functionsSym]"
   ]
  },
  {
   "cell_type": "markdown",
   "metadata": {},
   "source": [
    "# Нормы функций"
   ]
  },
  {
   "cell_type": "code",
   "execution_count": 8,
   "metadata": {},
   "outputs": [
    {
     "name": "stdout",
     "output_type": "stream",
     "text": [
      "Function is 5/(3*x**2 + 2)\n",
      "    C0 Norm: 2.50000000000000\n",
      "    C1 Norm: 4.48873448195858\n",
      "    C2 Norm: 11.9886894821150\n",
      "Function is 2/(cos(x) + 5)\n",
      "    C0 Norm: 0.436227596601593\n",
      "    C1 Norm: 0.522903841717501\n",
      "    C2 Norm: 0.578459397290074\n",
      "Function is (4*x**2 + 3)**0.333333333333333\n",
      "    C0 Norm: 2.66765260070813\n",
      "    C1 Norm: 3.43079540081238\n",
      "    C2 Norm: 4.71279273976567\n",
      "Function is 2*pi**(-0.5)*exp(-x**2)\n",
      "    C0 Norm: 1.12837916709551\n",
      "    C1 Norm: 2.09626139774643\n",
      "    C2 Norm: 4.35301521845277\n"
     ]
    }
   ],
   "source": [
    "CN = NormedVectorSpaceCN(h=1e-3, left=0, right=2)\n",
    "for index, f in enumerate(functions):\n",
    "    CN.SetFunction(f)\n",
    "    print('Function is %s' % functionsSym[index])\n",
    "    for i in range(3):\n",
    "        print('    C%s Norm: %s' % (i, CN.CalculateNorm(i)))"
   ]
  },
  {
   "cell_type": "markdown",
   "metadata": {},
   "source": [
    "# Попарные расстояния"
   ]
  },
  {
   "cell_type": "code",
   "execution_count": 9,
   "metadata": {},
   "outputs": [
    {
     "name": "stdout",
     "output_type": "stream",
     "text": [
      "Pair functions are 5/(3*x**2 + 2) and 2/(cos(x) + 5)\n",
      "    C0 Metrics: 2.16666666666667\n",
      "    C1 Metrics: 4.18168874480286\n",
      "    C2 Metrics: 11.7371993004486\n",
      "Pair functions are 5/(3*x**2 + 2) and (4*x**2 + 3)**0.333333333333333\n",
      "    C0 Metrics: 2.31020343516248\n",
      "    C1 Metrics: 4.82744631751104\n",
      "    C2 Metrics: 13.6093986566208\n",
      "Pair functions are 5/(3*x**2 + 2) and 2*pi**(-0.5)*exp(-x**2)\n",
      "    C0 Metrics: 1.37162083290449\n",
      "    C1 Metrics: 2.55505207761525\n",
      "    C2 Metrics: 7.79825325706535\n",
      "Pair functions are 2/(cos(x) + 5) and (4*x**2 + 3)**0.333333333333333\n",
      "    C0 Metrics: 2.23142500410653\n",
      "    C1 Metrics: 2.92103551258258\n",
      "    C2 Metrics: 4.14747729593554\n",
      "Pair functions are 2/(cos(x) + 5) and 2*pi**(-0.5)*exp(-x**2)\n",
      "    C0 Metrics: 0.795045833762179\n",
      "    C1 Metrics: 1.80247364616641\n",
      "    C2 Metrics: 4.11478302247308\n",
      "Pair functions are (4*x**2 + 3)**0.333333333333333 and 2*pi**(-0.5)*exp(-x**2)\n",
      "    C0 Metrics: 2.64690280260587\n",
      "    C1 Metrics: 4.27862138309892\n",
      "    C2 Metrics: 7.81737254275855\n"
     ]
    }
   ],
   "source": [
    "CN = NormedVectorSpaceCN(h=1e-3, left=0, right=2)\n",
    "for index1, f1 in enumerate(functionsSym):\n",
    "    for index2, f2 in enumerate(functionsSym):\n",
    "        if index1>=index2:\n",
    "            continue\n",
    "        print('Pair functions are %s and %s' % (f1, f2))\n",
    "        for i in range(3):\n",
    "            print('    C%s Metrics: %s' % (i , CN.CalculateMetric(f1,f2,n=i)))"
   ]
  }
 ],
 "metadata": {
  "kernelspec": {
   "display_name": "Python 3",
   "language": "python",
   "name": "python3"
  },
  "language_info": {
   "codemirror_mode": {
    "name": "ipython",
    "version": 3
   },
   "file_extension": ".py",
   "mimetype": "text/x-python",
   "name": "python",
   "nbconvert_exporter": "python",
   "pygments_lexer": "ipython3",
   "version": "3.7.4"
  }
 },
 "nbformat": 4,
 "nbformat_minor": 2
}
